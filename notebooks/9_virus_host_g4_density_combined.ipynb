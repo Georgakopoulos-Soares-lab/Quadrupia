{
 "cells": [
  {
   "cell_type": "code",
   "execution_count": 2,
   "metadata": {},
   "outputs": [],
   "source": [
    "import pandas as pd\n",
    "import numpy as np\n",
    "import matplotlib.pyplot as plt\n",
    "import seaborn as sns"
   ]
  },
  {
   "cell_type": "code",
   "execution_count": 3,
   "metadata": {},
   "outputs": [],
   "source": [
    "SPECIES_DATA = \"../results/species_data.csv\"\n",
    "G4_PATH = \"../results/g4hunter_g4_distribution.csv\"\n",
    "REG_PATH = \"../results/regex_g4_distribution.csv\"\n",
    "VIRUS_DATA_PATH = \"../metadata/virus_data.tsv\"    \n",
    "\n",
    "# set color map for domains\n",
    "color_map = {\n",
    "    'Virus': '#66c2a5',\n",
    "    'Bacteria': '#fc8d62',\n",
    "    'Eukaryota': '#8da0cb',\n",
    "    'Archaea': '#e78ac3'\n",
    "}\n",
    "\n",
    "def get_domain(taxa):\n",
    "    if taxa == 'viral':\n",
    "        return 'Virus'\n",
    "    elif taxa == 'bacteria':\n",
    "        return 'Bacteria'\n",
    "    elif taxa == 'archaea':\n",
    "        return 'Archaea'\n",
    "    else:\n",
    "        return 'Eukaryota'   \n",
    "    \n",
    "def get_host_domain(host):\n",
    "    host_domain = {\n",
    "        \"vertebrates\": \"Eukaryota\",\n",
    "        \"invertebrates\": \"Eukaryota\",\n",
    "        \"algae\": \"Eukaryota\",\n",
    "        \"plants\": \"Eukaryota\",\n",
    "        \"protozoa\": \"Eukaryota\",\n",
    "        \"bacteria\": \"Bacteria\",\n",
    "        \"land plants\": \"Eukaryota\",\n",
    "        \"human\": \"Eukaryota\",\n",
    "        \"eukaryotic algae\": \"Eukaryota\",\n",
    "        \"archaea\": \"Archaea\",\n",
    "        \"diatom\": \"Eukaryota\",\n",
    "        \"fungi\": \"Eukaryota\",\n",
    "        \"-\" : \"-\"\n",
    "    }\n",
    "    hosts = host.split(\",\")\n",
    "    domains = [host_domain[host] for host in hosts]\n",
    "    unique_domains = list(set(domains))\n",
    "    return \", \".join(unique_domains)"
   ]
  },
  {
   "cell_type": "code",
   "execution_count": 4,
   "metadata": {},
   "outputs": [
    {
     "name": "stderr",
     "output_type": "stream",
     "text": [
      "/var/folders/1r/lnpzqmmd429dz0fv3s3z1hdh0000gr/T/ipykernel_63430/4014061759.py:12: UserWarning: DataFrame columns are not unique, some columns will be omitted.\n",
      "  virus_host_dict = df_virus_host_data.set_index('#Organism/Name').T.to_dict('list')\n"
     ]
    }
   ],
   "source": [
    "# species data\n",
    "df_species = pd.read_csv(SPECIES_DATA)\n",
    "df_species = df_species[[\"Accession\", \"Species\", \"Genome Size\", \"GC Percentage\", \"Taxa\", \"Kingdom\", \"Phylum\"]]\n",
    "df_species = df_species.replace('na', np.nan)\n",
    "df_species[\"GC Percentage\"] = df_species[\"GC Percentage\"].astype(float)\n",
    "df_species[\"Genome Size\"] = df_species[\"Genome Size\"].astype(float)\n",
    "df_species[\"Domain\"] = df_species[\"Taxa\"].apply(get_domain)\n",
    "\n",
    "# virus-host dictionary\n",
    "df_virus_data = pd.read_csv(VIRUS_DATA_PATH, sep=\"\\t\")\n",
    "df_virus_host_data = df_virus_data[['#Organism/Name', 'Host']]\n",
    "virus_host_dict = df_virus_host_data.set_index('#Organism/Name').T.to_dict('list')\n",
    "virus_host_dict = {k: [x.strip() for x in list(set(','.join(set(v)).split(',')))] for k, v in virus_host_dict.items()}\n",
    "virus_host_dict = {k: ','.join(v) for k, v in virus_host_dict.items()}"
   ]
  },
  {
   "cell_type": "code",
   "execution_count": 5,
   "metadata": {},
   "outputs": [
    {
     "name": "stderr",
     "output_type": "stream",
     "text": [
      "/var/folders/1r/lnpzqmmd429dz0fv3s3z1hdh0000gr/T/ipykernel_63430/1783434632.py:22: SettingWithCopyWarning: \n",
      "A value is trying to be set on a copy of a slice from a DataFrame.\n",
      "Try using .loc[row_indexer,col_indexer] = value instead\n",
      "\n",
      "See the caveats in the documentation: https://pandas.pydata.org/pandas-docs/stable/user_guide/indexing.html#returning-a-view-versus-a-copy\n",
      "  df_g4_virus[\"Host\"] = df_g4_virus[\"Species\"].map(virus_host_dict)\n"
     ]
    },
    {
     "data": {
      "application/vnd.microsoft.datawrangler.viewer.v0+json": {
       "columns": [
        {
         "name": "index",
         "rawType": "int64",
         "type": "integer"
        },
        {
         "name": "Accession",
         "rawType": "object",
         "type": "string"
        },
        {
         "name": "Phylum",
         "rawType": "object",
         "type": "string"
        },
        {
         "name": "Host",
         "rawType": "object",
         "type": "string"
        },
        {
         "name": "Host Domain",
         "rawType": "object",
         "type": "string"
        },
        {
         "name": "G4 Density (per Mb)",
         "rawType": "float64",
         "type": "float"
        },
        {
         "name": "log10(G4 Density)",
         "rawType": "float64",
         "type": "float"
        }
       ],
       "ref": "a5de6ecb-ac03-4839-94a9-da2a85748cd0",
       "rows": [
        [
         "1273",
         "GCA_000820495.2",
         "Negarnaviricota",
         "vertebrates,human",
         "Eukaryota",
         "0.0",
         "0.0"
        ],
        [
         "1326",
         "GCA_000836825.1",
         "Cossaviricota",
         "vertebrates",
         "Eukaryota",
         "212.90185224611454",
         "2.3302145452858047"
        ],
        [
         "1328",
         "GCA_000836945.1",
         "Uroviricota",
         "bacteria",
         "Bacteria",
         "11.841115906763052",
         "1.1086027660296705"
        ],
        [
         "1329",
         "GCA_000836965.1",
         "Uroviricota",
         "bacteria",
         "Bacteria",
         "98.15710043925303",
         "1.9963238186036103"
        ],
        [
         "1331",
         "GCA_000837025.1",
         "Preplasmiviricota",
         "bacteria",
         "Bacteria",
         "334.9634889797012",
         "2.5262920827582307"
        ]
       ],
       "shape": {
        "columns": 6,
        "rows": 5
       }
      },
      "text/html": [
       "<div>\n",
       "<style scoped>\n",
       "    .dataframe tbody tr th:only-of-type {\n",
       "        vertical-align: middle;\n",
       "    }\n",
       "\n",
       "    .dataframe tbody tr th {\n",
       "        vertical-align: top;\n",
       "    }\n",
       "\n",
       "    .dataframe thead th {\n",
       "        text-align: right;\n",
       "    }\n",
       "</style>\n",
       "<table border=\"1\" class=\"dataframe\">\n",
       "  <thead>\n",
       "    <tr style=\"text-align: right;\">\n",
       "      <th></th>\n",
       "      <th>Accession</th>\n",
       "      <th>Phylum</th>\n",
       "      <th>Host</th>\n",
       "      <th>Host Domain</th>\n",
       "      <th>G4 Density (per Mb)</th>\n",
       "      <th>log10(G4 Density)</th>\n",
       "    </tr>\n",
       "  </thead>\n",
       "  <tbody>\n",
       "    <tr>\n",
       "      <th>1273</th>\n",
       "      <td>GCA_000820495.2</td>\n",
       "      <td>Negarnaviricota</td>\n",
       "      <td>vertebrates,human</td>\n",
       "      <td>Eukaryota</td>\n",
       "      <td>0.000000</td>\n",
       "      <td>0.000000</td>\n",
       "    </tr>\n",
       "    <tr>\n",
       "      <th>1326</th>\n",
       "      <td>GCA_000836825.1</td>\n",
       "      <td>Cossaviricota</td>\n",
       "      <td>vertebrates</td>\n",
       "      <td>Eukaryota</td>\n",
       "      <td>212.901852</td>\n",
       "      <td>2.330215</td>\n",
       "    </tr>\n",
       "    <tr>\n",
       "      <th>1328</th>\n",
       "      <td>GCA_000836945.1</td>\n",
       "      <td>Uroviricota</td>\n",
       "      <td>bacteria</td>\n",
       "      <td>Bacteria</td>\n",
       "      <td>11.841116</td>\n",
       "      <td>1.108603</td>\n",
       "    </tr>\n",
       "    <tr>\n",
       "      <th>1329</th>\n",
       "      <td>GCA_000836965.1</td>\n",
       "      <td>Uroviricota</td>\n",
       "      <td>bacteria</td>\n",
       "      <td>Bacteria</td>\n",
       "      <td>98.157100</td>\n",
       "      <td>1.996324</td>\n",
       "    </tr>\n",
       "    <tr>\n",
       "      <th>1331</th>\n",
       "      <td>GCA_000837025.1</td>\n",
       "      <td>Preplasmiviricota</td>\n",
       "      <td>bacteria</td>\n",
       "      <td>Bacteria</td>\n",
       "      <td>334.963489</td>\n",
       "      <td>2.526292</td>\n",
       "    </tr>\n",
       "  </tbody>\n",
       "</table>\n",
       "</div>"
      ],
      "text/plain": [
       "            Accession             Phylum               Host Host Domain  \\\n",
       "1273  GCA_000820495.2    Negarnaviricota  vertebrates,human   Eukaryota   \n",
       "1326  GCA_000836825.1      Cossaviricota        vertebrates   Eukaryota   \n",
       "1328  GCA_000836945.1        Uroviricota           bacteria    Bacteria   \n",
       "1329  GCA_000836965.1        Uroviricota           bacteria    Bacteria   \n",
       "1331  GCA_000837025.1  Preplasmiviricota           bacteria    Bacteria   \n",
       "\n",
       "      G4 Density (per Mb)  log10(G4 Density)  \n",
       "1273             0.000000           0.000000  \n",
       "1326           212.901852           2.330215  \n",
       "1328            11.841116           1.108603  \n",
       "1329            98.157100           1.996324  \n",
       "1331           334.963489           2.526292  "
      ]
     },
     "execution_count": 5,
     "metadata": {},
     "output_type": "execute_result"
    }
   ],
   "source": [
    "# g4 data from g4hunter\n",
    "df_g4 = pd.read_csv(G4_PATH)\n",
    "df_g4 = df_g4[[\"accession\", \"g4_count\", \"total_g4_length\"]]\n",
    "df_g4 = df_g4.rename(columns={\"accession\": \"Accession\"})\n",
    "df_g4[\"g4_count\"] = df_g4[\"g4_count\"].astype(float)\n",
    "df_g4[\"total_g4_length\"] = df_g4[\"total_g4_length\"].astype(float)\n",
    "\n",
    "# merge with species data\n",
    "df_g4 = pd.merge(df_g4, df_species, on=\"Accession\")\n",
    "df_g4[\"G4 Density (per Mb)\"] = df_g4[\"g4_count\"] / df_g4[\"Genome Size\"] * 1000000\n",
    "df_g4[\"GC Corrected G4 Density (per Mb)\"] = df_g4[\"G4 Density (per Mb)\"] / (df_g4[\"GC Percentage\"] / 50)\n",
    "\n",
    "# filter out metagenomes and other taxa as they are not relevant for domain level analysis\n",
    "df_g4 = df_g4[df_g4[\"Taxa\"] != \"metagenomes\"]\n",
    "df_g4 = df_g4[df_g4[\"Taxa\"] != \"other\"]\n",
    "\n",
    "# for viruses, set kingdom as virus\n",
    "df_g4.loc[df_g4[\"Taxa\"] == \"viral\", \"Kingdom\"] = \"Virus\"\n",
    "\n",
    "# get host info for all viral species \n",
    "df_g4_virus = df_g4[df_g4[\"Kingdom\"] == \"Virus\"]\n",
    "df_g4_virus[\"Host\"] = df_g4_virus[\"Species\"].map(virus_host_dict)\n",
    "df_g4_virus = df_g4_virus.dropna()\n",
    "df_g4_virus[\"Host Domain\"] = df_g4_virus[\"Host\"].apply(get_host_domain)\n",
    "df_g4_virus = df_g4_virus.explode(\"Host Domain\")\n",
    "df_g4_virus = df_g4_virus[df_g4_virus[\"Host Domain\"] != \"-\"]\n",
    "df_g4_virus[\"log10(G4 Density)\"] = np.log10(df_g4_virus[\"G4 Density (per Mb)\"]+1)\n",
    "df_g4_virus = df_g4_virus[[\"Accession\", \"Phylum\", \"Host\", \"Host Domain\", \"G4 Density (per Mb)\", \"log10(G4 Density)\"]]\n",
    "df_g4_virus.head()"
   ]
  },
  {
   "cell_type": "code",
   "execution_count": 6,
   "metadata": {},
   "outputs": [
    {
     "name": "stderr",
     "output_type": "stream",
     "text": [
      "/var/folders/1r/lnpzqmmd429dz0fv3s3z1hdh0000gr/T/ipykernel_63430/1214932752.py:22: SettingWithCopyWarning: \n",
      "A value is trying to be set on a copy of a slice from a DataFrame.\n",
      "Try using .loc[row_indexer,col_indexer] = value instead\n",
      "\n",
      "See the caveats in the documentation: https://pandas.pydata.org/pandas-docs/stable/user_guide/indexing.html#returning-a-view-versus-a-copy\n",
      "  df_reg_virus[\"Host\"] = df_reg_virus[\"Species\"].map(virus_host_dict)\n"
     ]
    },
    {
     "data": {
      "application/vnd.microsoft.datawrangler.viewer.v0+json": {
       "columns": [
        {
         "name": "index",
         "rawType": "int64",
         "type": "integer"
        },
        {
         "name": "Accession",
         "rawType": "object",
         "type": "string"
        },
        {
         "name": "Phylum",
         "rawType": "object",
         "type": "string"
        },
        {
         "name": "Host",
         "rawType": "object",
         "type": "string"
        },
        {
         "name": "Host Domain",
         "rawType": "object",
         "type": "string"
        },
        {
         "name": "G4 Density (per Mb)",
         "rawType": "float64",
         "type": "float"
        },
        {
         "name": "log10(G4 Density)",
         "rawType": "float64",
         "type": "float"
        }
       ],
       "ref": "a3b917eb-c50e-43b8-878b-00bdf360498a",
       "rows": [
        [
         "1273",
         "GCA_000820495.2",
         "Negarnaviricota",
         "vertebrates,human",
         "Eukaryota",
         "0.0",
         "0.0"
        ],
        [
         "1326",
         "GCA_000836825.1",
         "Cossaviricota",
         "vertebrates",
         "Eukaryota",
         "0.0",
         "0.0"
        ],
        [
         "1328",
         "GCA_000836945.1",
         "Uroviricota",
         "bacteria",
         "Bacteria",
         "0.0",
         "0.0"
        ],
        [
         "1329",
         "GCA_000836965.1",
         "Uroviricota",
         "bacteria",
         "Bacteria",
         "0.0",
         "0.0"
        ],
        [
         "1331",
         "GCA_000837025.1",
         "Preplasmiviricota",
         "bacteria",
         "Bacteria",
         "133.98539559188046",
         "2.1302867836286574"
        ]
       ],
       "shape": {
        "columns": 6,
        "rows": 5
       }
      },
      "text/html": [
       "<div>\n",
       "<style scoped>\n",
       "    .dataframe tbody tr th:only-of-type {\n",
       "        vertical-align: middle;\n",
       "    }\n",
       "\n",
       "    .dataframe tbody tr th {\n",
       "        vertical-align: top;\n",
       "    }\n",
       "\n",
       "    .dataframe thead th {\n",
       "        text-align: right;\n",
       "    }\n",
       "</style>\n",
       "<table border=\"1\" class=\"dataframe\">\n",
       "  <thead>\n",
       "    <tr style=\"text-align: right;\">\n",
       "      <th></th>\n",
       "      <th>Accession</th>\n",
       "      <th>Phylum</th>\n",
       "      <th>Host</th>\n",
       "      <th>Host Domain</th>\n",
       "      <th>G4 Density (per Mb)</th>\n",
       "      <th>log10(G4 Density)</th>\n",
       "    </tr>\n",
       "  </thead>\n",
       "  <tbody>\n",
       "    <tr>\n",
       "      <th>1273</th>\n",
       "      <td>GCA_000820495.2</td>\n",
       "      <td>Negarnaviricota</td>\n",
       "      <td>vertebrates,human</td>\n",
       "      <td>Eukaryota</td>\n",
       "      <td>0.000000</td>\n",
       "      <td>0.000000</td>\n",
       "    </tr>\n",
       "    <tr>\n",
       "      <th>1326</th>\n",
       "      <td>GCA_000836825.1</td>\n",
       "      <td>Cossaviricota</td>\n",
       "      <td>vertebrates</td>\n",
       "      <td>Eukaryota</td>\n",
       "      <td>0.000000</td>\n",
       "      <td>0.000000</td>\n",
       "    </tr>\n",
       "    <tr>\n",
       "      <th>1328</th>\n",
       "      <td>GCA_000836945.1</td>\n",
       "      <td>Uroviricota</td>\n",
       "      <td>bacteria</td>\n",
       "      <td>Bacteria</td>\n",
       "      <td>0.000000</td>\n",
       "      <td>0.000000</td>\n",
       "    </tr>\n",
       "    <tr>\n",
       "      <th>1329</th>\n",
       "      <td>GCA_000836965.1</td>\n",
       "      <td>Uroviricota</td>\n",
       "      <td>bacteria</td>\n",
       "      <td>Bacteria</td>\n",
       "      <td>0.000000</td>\n",
       "      <td>0.000000</td>\n",
       "    </tr>\n",
       "    <tr>\n",
       "      <th>1331</th>\n",
       "      <td>GCA_000837025.1</td>\n",
       "      <td>Preplasmiviricota</td>\n",
       "      <td>bacteria</td>\n",
       "      <td>Bacteria</td>\n",
       "      <td>133.985396</td>\n",
       "      <td>2.130287</td>\n",
       "    </tr>\n",
       "  </tbody>\n",
       "</table>\n",
       "</div>"
      ],
      "text/plain": [
       "            Accession             Phylum               Host Host Domain  \\\n",
       "1273  GCA_000820495.2    Negarnaviricota  vertebrates,human   Eukaryota   \n",
       "1326  GCA_000836825.1      Cossaviricota        vertebrates   Eukaryota   \n",
       "1328  GCA_000836945.1        Uroviricota           bacteria    Bacteria   \n",
       "1329  GCA_000836965.1        Uroviricota           bacteria    Bacteria   \n",
       "1331  GCA_000837025.1  Preplasmiviricota           bacteria    Bacteria   \n",
       "\n",
       "      G4 Density (per Mb)  log10(G4 Density)  \n",
       "1273             0.000000           0.000000  \n",
       "1326             0.000000           0.000000  \n",
       "1328             0.000000           0.000000  \n",
       "1329             0.000000           0.000000  \n",
       "1331           133.985396           2.130287  "
      ]
     },
     "execution_count": 6,
     "metadata": {},
     "output_type": "execute_result"
    }
   ],
   "source": [
    "# g4 data from regex\n",
    "df_reg = pd.read_csv(REG_PATH)\n",
    "df_reg = df_reg[[\"accession\", \"g4_count\", \"total_g4_length\"]]\n",
    "df_reg = df_reg.rename(columns={\"accession\": \"Accession\"})\n",
    "df_reg[\"g4_count\"] = df_reg[\"g4_count\"].astype(float)\n",
    "df_reg[\"total_g4_length\"] = df_reg[\"total_g4_length\"].astype(float)\n",
    "\n",
    "# merge with species data\n",
    "df_reg = pd.merge(df_reg, df_species, on=\"Accession\")\n",
    "df_reg[\"G4 Density (per Mb)\"] = df_reg[\"g4_count\"] / df_reg[\"Genome Size\"] * 1000000\n",
    "df_reg[\"GC Corrected G4 Density (per Mb)\"] = df_reg[\"G4 Density (per Mb)\"] / (df_reg[\"GC Percentage\"] / 50)\n",
    "\n",
    "# filter out metagenomes and other taxa as they are not relevant for domain level analysis\n",
    "df_reg = df_reg[df_reg[\"Taxa\"] != \"metagenomes\"]\n",
    "df_reg = df_reg[df_reg[\"Taxa\"] != \"other\"]\n",
    "\n",
    "# for viruses, set kingdom as virus\n",
    "df_reg.loc[df_reg[\"Taxa\"] == \"viral\", \"Kingdom\"] = \"Virus\"\n",
    "\n",
    "# get host info for all viral species \n",
    "df_reg_virus = df_reg[df_reg[\"Kingdom\"] == \"Virus\"]\n",
    "df_reg_virus[\"Host\"] = df_reg_virus[\"Species\"].map(virus_host_dict)\n",
    "df_reg_virus = df_reg_virus.dropna()\n",
    "df_reg_virus[\"Host Domain\"] = df_reg_virus[\"Host\"].apply(get_host_domain)\n",
    "df_reg_virus = df_reg_virus.explode(\"Host Domain\")\n",
    "df_reg_virus = df_reg_virus[df_reg_virus[\"Host Domain\"] != \"-\"]\n",
    "df_reg_virus[\"log10(G4 Density)\"] = np.log10(df_reg_virus[\"G4 Density (per Mb)\"]+1)\n",
    "df_reg_virus = df_reg_virus[[\"Accession\", \"Phylum\", \"Host\", \"Host Domain\", \"G4 Density (per Mb)\", \"log10(G4 Density)\"]]\n",
    "df_reg_virus.head()"
   ]
  },
  {
   "cell_type": "code",
   "execution_count": 7,
   "metadata": {},
   "outputs": [
    {
     "data": {
      "application/vnd.microsoft.datawrangler.viewer.v0+json": {
       "columns": [
        {
         "name": "index",
         "rawType": "int64",
         "type": "integer"
        },
        {
         "name": "Accession",
         "rawType": "object",
         "type": "string"
        },
        {
         "name": "Phylum",
         "rawType": "object",
         "type": "string"
        },
        {
         "name": "Host",
         "rawType": "object",
         "type": "string"
        },
        {
         "name": "Host Domain",
         "rawType": "object",
         "type": "string"
        },
        {
         "name": "G4 Density (per Mb)",
         "rawType": "float64",
         "type": "float"
        },
        {
         "name": "log10(G4 Density)",
         "rawType": "float64",
         "type": "float"
        },
        {
         "name": "Method",
         "rawType": "object",
         "type": "string"
        },
        {
         "name": "Euk/Non-Euk Host",
         "rawType": "object",
         "type": "string"
        }
       ],
       "ref": "d94058e2-9809-4aef-a233-8f4f568e3fac",
       "rows": [
        [
         "1273",
         "GCA_000820495.2",
         "Negarnaviricota",
         "vertebrates,human",
         "Eukaryota",
         "0.0",
         "0.0",
         "G4Hunter",
         "Eukaryotic"
        ],
        [
         "1326",
         "GCA_000836825.1",
         "Cossaviricota",
         "vertebrates",
         "Eukaryota",
         "212.90185224611454",
         "2.3302145452858047",
         "G4Hunter",
         "Eukaryotic"
        ],
        [
         "1328",
         "GCA_000836945.1",
         "Uroviricota",
         "bacteria",
         "Bacteria",
         "11.841115906763052",
         "1.1086027660296705",
         "G4Hunter",
         "Non-Eukaryotic"
        ],
        [
         "1329",
         "GCA_000836965.1",
         "Uroviricota",
         "bacteria",
         "Bacteria",
         "98.15710043925303",
         "1.9963238186036103",
         "G4Hunter",
         "Non-Eukaryotic"
        ],
        [
         "1331",
         "GCA_000837025.1",
         "Preplasmiviricota",
         "bacteria",
         "Bacteria",
         "334.9634889797012",
         "2.5262920827582307",
         "G4Hunter",
         "Non-Eukaryotic"
        ]
       ],
       "shape": {
        "columns": 8,
        "rows": 5
       }
      },
      "text/html": [
       "<div>\n",
       "<style scoped>\n",
       "    .dataframe tbody tr th:only-of-type {\n",
       "        vertical-align: middle;\n",
       "    }\n",
       "\n",
       "    .dataframe tbody tr th {\n",
       "        vertical-align: top;\n",
       "    }\n",
       "\n",
       "    .dataframe thead th {\n",
       "        text-align: right;\n",
       "    }\n",
       "</style>\n",
       "<table border=\"1\" class=\"dataframe\">\n",
       "  <thead>\n",
       "    <tr style=\"text-align: right;\">\n",
       "      <th></th>\n",
       "      <th>Accession</th>\n",
       "      <th>Phylum</th>\n",
       "      <th>Host</th>\n",
       "      <th>Host Domain</th>\n",
       "      <th>G4 Density (per Mb)</th>\n",
       "      <th>log10(G4 Density)</th>\n",
       "      <th>Method</th>\n",
       "      <th>Euk/Non-Euk Host</th>\n",
       "    </tr>\n",
       "  </thead>\n",
       "  <tbody>\n",
       "    <tr>\n",
       "      <th>1273</th>\n",
       "      <td>GCA_000820495.2</td>\n",
       "      <td>Negarnaviricota</td>\n",
       "      <td>vertebrates,human</td>\n",
       "      <td>Eukaryota</td>\n",
       "      <td>0.000000</td>\n",
       "      <td>0.000000</td>\n",
       "      <td>G4Hunter</td>\n",
       "      <td>Eukaryotic</td>\n",
       "    </tr>\n",
       "    <tr>\n",
       "      <th>1326</th>\n",
       "      <td>GCA_000836825.1</td>\n",
       "      <td>Cossaviricota</td>\n",
       "      <td>vertebrates</td>\n",
       "      <td>Eukaryota</td>\n",
       "      <td>212.901852</td>\n",
       "      <td>2.330215</td>\n",
       "      <td>G4Hunter</td>\n",
       "      <td>Eukaryotic</td>\n",
       "    </tr>\n",
       "    <tr>\n",
       "      <th>1328</th>\n",
       "      <td>GCA_000836945.1</td>\n",
       "      <td>Uroviricota</td>\n",
       "      <td>bacteria</td>\n",
       "      <td>Bacteria</td>\n",
       "      <td>11.841116</td>\n",
       "      <td>1.108603</td>\n",
       "      <td>G4Hunter</td>\n",
       "      <td>Non-Eukaryotic</td>\n",
       "    </tr>\n",
       "    <tr>\n",
       "      <th>1329</th>\n",
       "      <td>GCA_000836965.1</td>\n",
       "      <td>Uroviricota</td>\n",
       "      <td>bacteria</td>\n",
       "      <td>Bacteria</td>\n",
       "      <td>98.157100</td>\n",
       "      <td>1.996324</td>\n",
       "      <td>G4Hunter</td>\n",
       "      <td>Non-Eukaryotic</td>\n",
       "    </tr>\n",
       "    <tr>\n",
       "      <th>1331</th>\n",
       "      <td>GCA_000837025.1</td>\n",
       "      <td>Preplasmiviricota</td>\n",
       "      <td>bacteria</td>\n",
       "      <td>Bacteria</td>\n",
       "      <td>334.963489</td>\n",
       "      <td>2.526292</td>\n",
       "      <td>G4Hunter</td>\n",
       "      <td>Non-Eukaryotic</td>\n",
       "    </tr>\n",
       "  </tbody>\n",
       "</table>\n",
       "</div>"
      ],
      "text/plain": [
       "            Accession             Phylum               Host Host Domain  \\\n",
       "1273  GCA_000820495.2    Negarnaviricota  vertebrates,human   Eukaryota   \n",
       "1326  GCA_000836825.1      Cossaviricota        vertebrates   Eukaryota   \n",
       "1328  GCA_000836945.1        Uroviricota           bacteria    Bacteria   \n",
       "1329  GCA_000836965.1        Uroviricota           bacteria    Bacteria   \n",
       "1331  GCA_000837025.1  Preplasmiviricota           bacteria    Bacteria   \n",
       "\n",
       "      G4 Density (per Mb)  log10(G4 Density)    Method Euk/Non-Euk Host  \n",
       "1273             0.000000           0.000000  G4Hunter       Eukaryotic  \n",
       "1326           212.901852           2.330215  G4Hunter       Eukaryotic  \n",
       "1328            11.841116           1.108603  G4Hunter   Non-Eukaryotic  \n",
       "1329            98.157100           1.996324  G4Hunter   Non-Eukaryotic  \n",
       "1331           334.963489           2.526292  G4Hunter   Non-Eukaryotic  "
      ]
     },
     "execution_count": 7,
     "metadata": {},
     "output_type": "execute_result"
    }
   ],
   "source": [
    "# join g4 and regex data\n",
    "df_g4_virus[\"Method\"] = \"G4Hunter\"\n",
    "df_reg_virus[\"Method\"] = \"regex-based\"\n",
    "df_virus_host = pd.concat([df_g4_virus, df_reg_virus])\n",
    "df_virus_host[\"Euk/Non-Euk Host\"] = df_virus_host[\"Host Domain\"].apply(\n",
    "    lambda x: \"Eukaryotic\" if x == \"Eukaryota\" else \"Non-Eukaryotic\")\n",
    "df_virus_host.head()"
   ]
  },
  {
   "cell_type": "code",
   "execution_count": 17,
   "metadata": {},
   "outputs": [
    {
     "data": {
      "text/plain": [
       "<Figure size 600x600 with 0 Axes>"
      ]
     },
     "metadata": {},
     "output_type": "display_data"
    },
    {
     "data": {
      "image/png": "[encoded data removed]",
      "text/plain": [
       "<Figure size 500x500 with 1 Axes>"
      ]
     },
     "metadata": {},
     "output_type": "display_data"
    }
   ],
   "source": [
    "# draw a categorical boxplot to compare G4 densities between  \n",
    "# viruses with different host domains for g4hunter and regex\n",
    "\n",
    "sns.set_theme(style=\"whitegrid\")\n",
    "plt.figure(figsize=(6,6))\n",
    "sns.catplot(\n",
    "    data=df_virus_host, \n",
    "    kind=\"bar\",\n",
    "    x=\"Method\", \n",
    "    y=\"G4 Density (per Mb)\", \n",
    "    hue=\"Host Domain\",\n",
    "    order=[\"G4Hunter\", \"regex-based\"],\n",
    "    hue_order=[\"Eukaryota\", \"Archaea\", \"Bacteria\"],\n",
    "    palette=color_map,\n",
    "    legend=False,\n",
    ")\n",
    "plt.xticks(fontsize=22)\n",
    "plt.yticks(fontsize=19)\n",
    "plt.xlabel(\"Method\", fontsize=22, labelpad=10)\n",
    "plt.ylabel(\"G4 Density (per Mb)\", fontsize=22, labelpad=10)\n",
    "\n",
    "# create legend\n",
    "plt.legend(\n",
    "    title=\"Host Domain\", \n",
    "    loc=\"upper right\", \n",
    "    fontsize=20,\n",
    "    title_fontsize=20,\n",
    "    labels=[\"Eukaryota\", \"Archaea\", \"Bacteria\"], \n",
    "    bbox_to_anchor=(1.04, 1),\n",
    ")\n",
    "# add color patches to legend\n",
    "legend = plt.gca().get_legend()\n",
    "handles = legend.get_lines()\n",
    "handles[0].set_color(color_map[\"Eukaryota\"])\n",
    "handles[1].set_color(color_map[\"Archaea\"])\n",
    "handles[2].set_color(color_map[\"Bacteria\"])\n",
    "for i in range(3):\n",
    "    handles[i].set_linewidth(7)\n",
    "\n",
    "plt.tight_layout()\n",
    "plt.savefig(\"../plots/virus_host_domain_g4_density.png\", dpi=300)"
   ]
  },
  {
   "cell_type": "code",
   "execution_count": 9,
   "metadata": {},
   "outputs": [
    {
     "data": {
      "text/plain": [
       "<Figure size 600x600 with 0 Axes>"
      ]
     },
     "metadata": {},
     "output_type": "display_data"
    },
    {
     "data": {
      "image/png": "[encoded data removed]",
      "text/plain": [
       "<Figure size 500x500 with 1 Axes>"
      ]
     },
     "metadata": {},
     "output_type": "display_data"
    }
   ],
   "source": [
    "# draw a categorical boxplot to compare G4 densities between  \n",
    "# viruses with eukaryotic and non-eukaryotic hosts for g4hunter and regex\n",
    "\n",
    "sns.set_theme(style=\"whitegrid\")\n",
    "plt.figure(figsize=(6,6))\n",
    "sns.catplot(\n",
    "    data=df_virus_host, \n",
    "    kind=\"bar\",\n",
    "    x=\"Method\", \n",
    "    y=\"G4 Density (per Mb)\", \n",
    "    hue=\"Euk/Non-Euk Host\",\n",
    "    order=[\"G4Hunter\", \"regex-based\"],\n",
    "    hue_order=[\"Eukaryotic\", \"Non-Eukaryotic\"],\n",
    "    palette={\"Eukaryotic\": \"#8da0cb\", \"Non-Eukaryotic\": \"lightcoral\"},\n",
    "    legend=False,\n",
    ")\n",
    "plt.xticks(fontsize=22)\n",
    "plt.yticks(fontsize=19)\n",
    "plt.xlabel(\"Method\", fontsize=22, labelpad=10)\n",
    "plt.ylabel(\"G4 Density (per Mb)\", fontsize=22, labelpad=10)\n",
    "\n",
    "# create legend\n",
    "plt.legend(\n",
    "    title=\"Host Domain\", \n",
    "    loc=\"upper right\", \n",
    "    labels=[\"Eukaryotic\", \"Non-Eukaryotic\"], \n",
    "    fontsize=18,\n",
    "    title_fontsize=18,\n",
    "    bbox_to_anchor=(1.04, 1),\n",
    ")\n",
    "# add color patches to legend\n",
    "legend = plt.gca().get_legend()\n",
    "handles = legend.get_lines()\n",
    "handles[0].set_color(\"#8da0cb\")\n",
    "handles[1].set_color(\"lightcoral\")\n",
    "for i in range(2):\n",
    "    handles[i].set_linewidth(5)\n",
    "\n",
    "plt.tight_layout()\n",
    "plt.savefig(\"../plots/virus_host_domain_g4_density_euk.png\", dpi=300)"
   ]
  },
  {
   "cell_type": "code",
   "execution_count": 10,
   "metadata": {},
   "outputs": [
    {
     "data": {
      "application/vnd.microsoft.datawrangler.viewer.v0+json": {
       "columns": [
        {
         "name": "index",
         "rawType": "int64",
         "type": "integer"
        },
        {
         "name": "Method",
         "rawType": "object",
         "type": "string"
        },
        {
         "name": "Host Domain",
         "rawType": "object",
         "type": "string"
        },
        {
         "name": "G4 Density (per Mb)",
         "rawType": "float64",
         "type": "float"
        }
       ],
       "ref": "a74e444e-ec48-48cc-a2a9-6669c495fad9",
       "rows": [
        [
         "0",
         "G4Hunter",
         "Eukaryotic",
         "405.7945117813013"
        ],
        [
         "1",
         "G4Hunter",
         "Non-Eukaryotic",
         "141.64765998324347"
        ],
        [
         "2",
         "regex-based",
         "Eukaryotic",
         "113.99046346346158"
        ],
        [
         "3",
         "regex-based",
         "Non-Eukaryotic",
         "29.487025598673675"
        ]
       ],
       "shape": {
        "columns": 3,
        "rows": 4
       }
      },
      "text/html": [
       "<div>\n",
       "<style scoped>\n",
       "    .dataframe tbody tr th:only-of-type {\n",
       "        vertical-align: middle;\n",
       "    }\n",
       "\n",
       "    .dataframe tbody tr th {\n",
       "        vertical-align: top;\n",
       "    }\n",
       "\n",
       "    .dataframe thead th {\n",
       "        text-align: right;\n",
       "    }\n",
       "</style>\n",
       "<table border=\"1\" class=\"dataframe\">\n",
       "  <thead>\n",
       "    <tr style=\"text-align: right;\">\n",
       "      <th></th>\n",
       "      <th>Method</th>\n",
       "      <th>Host Domain</th>\n",
       "      <th>G4 Density (per Mb)</th>\n",
       "    </tr>\n",
       "  </thead>\n",
       "  <tbody>\n",
       "    <tr>\n",
       "      <th>0</th>\n",
       "      <td>G4Hunter</td>\n",
       "      <td>Eukaryotic</td>\n",
       "      <td>405.794512</td>\n",
       "    </tr>\n",
       "    <tr>\n",
       "      <th>1</th>\n",
       "      <td>G4Hunter</td>\n",
       "      <td>Non-Eukaryotic</td>\n",
       "      <td>141.647660</td>\n",
       "    </tr>\n",
       "    <tr>\n",
       "      <th>2</th>\n",
       "      <td>regex-based</td>\n",
       "      <td>Eukaryotic</td>\n",
       "      <td>113.990463</td>\n",
       "    </tr>\n",
       "    <tr>\n",
       "      <th>3</th>\n",
       "      <td>regex-based</td>\n",
       "      <td>Non-Eukaryotic</td>\n",
       "      <td>29.487026</td>\n",
       "    </tr>\n",
       "  </tbody>\n",
       "</table>\n",
       "</div>"
      ],
      "text/plain": [
       "        Method     Host Domain  G4 Density (per Mb)\n",
       "0     G4Hunter      Eukaryotic           405.794512\n",
       "1     G4Hunter  Non-Eukaryotic           141.647660\n",
       "2  regex-based      Eukaryotic           113.990463\n",
       "3  regex-based  Non-Eukaryotic            29.487026"
      ]
     },
     "execution_count": 10,
     "metadata": {},
     "output_type": "execute_result"
    }
   ],
   "source": [
    "# export figure data\n",
    "df_virus_host_grouped = df_virus_host.groupby([\"Method\", \"Euk/Non-Euk Host\"]).agg({\n",
    "    \"G4 Density (per Mb)\": \"mean\"\n",
    "}).reset_index()\n",
    "df_virus_host_grouped.head()\n",
    "df_virus_host_grouped.rename(columns={\n",
    "    \"Euk/Non-Euk Host\": \"Host Domain\",\n",
    "}, inplace=True)\n",
    "df_virus_host_grouped.to_csv(\"../supplementary_data/virus_host_domain_g4_density.csv\", index=False)\n",
    "df_virus_host_grouped.head()"
   ]
  }
 ],
 "metadata": {
  "kernelspec": {
   "display_name": "Python 3",
   "language": "python",
   "name": "python3"
  },
  "language_info": {
   "codemirror_mode": {
    "name": "ipython",
    "version": 3
   },
   "file_extension": ".py",
   "mimetype": "text/x-python",
   "name": "python",
   "nbconvert_exporter": "python",
   "pygments_lexer": "ipython3",
   "version": "3.9.21"
  }
 },
 "nbformat": 4,
 "nbformat_minor": 2
}
