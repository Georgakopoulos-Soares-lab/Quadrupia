{
 "cells": [
  {
   "cell_type": "code",
   "execution_count": 9,
   "metadata": {},
   "outputs": [],
   "source": [
    "import pandas as pd\n",
    "import numpy as np\n",
    "import matplotlib.pyplot as plt\n",
    "import seaborn as sns"
   ]
  },
  {
   "cell_type": "code",
   "execution_count": 10,
   "metadata": {},
   "outputs": [],
   "source": [
    "SPECIES_DATA = \"../results/species_data.csv\"\n",
    "G4_PATH = \"../results/g4hunter_g4_distribution.csv\"\n",
    "REG_PATH = \"../results/regex_g4_distribution.csv\"\n",
    "\n",
    "def get_domain(taxa):\n",
    "    if taxa == 'viral':\n",
    "        return 'Virus'\n",
    "    elif taxa == 'bacteria':\n",
    "        return 'Bacteria'\n",
    "    elif taxa == 'archaea':\n",
    "        return 'Archaea'\n",
    "    else:\n",
    "        return 'Eukaryota'    \n",
    "\n",
    "# set color map for domains\n",
    "color_map = {\n",
    "    'Virus': '#66c2a5',\n",
    "    'Bacteria': '#fc8d62',\n",
    "    'Eukaryota': '#8da0cb',\n",
    "    'Archaea': '#e78ac3'\n",
    "}"
   ]
  },
  {
   "cell_type": "code",
   "execution_count": 11,
   "metadata": {},
   "outputs": [
    {
     "data": {
      "application/vnd.microsoft.datawrangler.viewer.v0+json": {
       "columns": [
        {
         "name": "index",
         "rawType": "int64",
         "type": "integer"
        },
        {
         "name": "Accession",
         "rawType": "object",
         "type": "string"
        },
        {
         "name": "Genome Size",
         "rawType": "float64",
         "type": "float"
        },
        {
         "name": "GC Percentage",
         "rawType": "float64",
         "type": "float"
        },
        {
         "name": "Taxa",
         "rawType": "object",
         "type": "string"
        },
        {
         "name": "Domain",
         "rawType": "object",
         "type": "string"
        }
       ],
       "ref": "38f1474f-5634-480f-8671-f1bb85a9d1bc",
       "rows": [
        [
         "0",
         "GCA_000002515.1",
         "10689156.0",
         "38.5",
         "fungi",
         "Eukaryota"
        ],
        [
         "1",
         "GCA_031844645.1",
         "6733472.0",
         "61.0",
         "bacteria",
         "Bacteria"
        ],
        [
         "2",
         "GCA_958295725.1",
         "3665566.0",
         "67.0",
         "bacteria",
         "Bacteria"
        ],
        [
         "3",
         "GCA_000002765.3",
         "23292622.0",
         "19.0",
         "protozoa",
         "Eukaryota"
        ],
        [
         "4",
         "GCA_000006645.1",
         "4701745.0",
         "47.5",
         "bacteria",
         "Bacteria"
        ]
       ],
       "shape": {
        "columns": 5,
        "rows": 5
       }
      },
      "text/html": [
       "<div>\n",
       "<style scoped>\n",
       "    .dataframe tbody tr th:only-of-type {\n",
       "        vertical-align: middle;\n",
       "    }\n",
       "\n",
       "    .dataframe tbody tr th {\n",
       "        vertical-align: top;\n",
       "    }\n",
       "\n",
       "    .dataframe thead th {\n",
       "        text-align: right;\n",
       "    }\n",
       "</style>\n",
       "<table border=\"1\" class=\"dataframe\">\n",
       "  <thead>\n",
       "    <tr style=\"text-align: right;\">\n",
       "      <th></th>\n",
       "      <th>Accession</th>\n",
       "      <th>Genome Size</th>\n",
       "      <th>GC Percentage</th>\n",
       "      <th>Taxa</th>\n",
       "      <th>Domain</th>\n",
       "    </tr>\n",
       "  </thead>\n",
       "  <tbody>\n",
       "    <tr>\n",
       "      <th>0</th>\n",
       "      <td>GCA_000002515.1</td>\n",
       "      <td>10689156.0</td>\n",
       "      <td>38.5</td>\n",
       "      <td>fungi</td>\n",
       "      <td>Eukaryota</td>\n",
       "    </tr>\n",
       "    <tr>\n",
       "      <th>1</th>\n",
       "      <td>GCA_031844645.1</td>\n",
       "      <td>6733472.0</td>\n",
       "      <td>61.0</td>\n",
       "      <td>bacteria</td>\n",
       "      <td>Bacteria</td>\n",
       "    </tr>\n",
       "    <tr>\n",
       "      <th>2</th>\n",
       "      <td>GCA_958295725.1</td>\n",
       "      <td>3665566.0</td>\n",
       "      <td>67.0</td>\n",
       "      <td>bacteria</td>\n",
       "      <td>Bacteria</td>\n",
       "    </tr>\n",
       "    <tr>\n",
       "      <th>3</th>\n",
       "      <td>GCA_000002765.3</td>\n",
       "      <td>23292622.0</td>\n",
       "      <td>19.0</td>\n",
       "      <td>protozoa</td>\n",
       "      <td>Eukaryota</td>\n",
       "    </tr>\n",
       "    <tr>\n",
       "      <th>4</th>\n",
       "      <td>GCA_000006645.1</td>\n",
       "      <td>4701745.0</td>\n",
       "      <td>47.5</td>\n",
       "      <td>bacteria</td>\n",
       "      <td>Bacteria</td>\n",
       "    </tr>\n",
       "  </tbody>\n",
       "</table>\n",
       "</div>"
      ],
      "text/plain": [
       "         Accession  Genome Size  GC Percentage      Taxa     Domain\n",
       "0  GCA_000002515.1   10689156.0           38.5     fungi  Eukaryota\n",
       "1  GCA_031844645.1    6733472.0           61.0  bacteria   Bacteria\n",
       "2  GCA_958295725.1    3665566.0           67.0  bacteria   Bacteria\n",
       "3  GCA_000002765.3   23292622.0           19.0  protozoa  Eukaryota\n",
       "4  GCA_000006645.1    4701745.0           47.5  bacteria   Bacteria"
      ]
     },
     "execution_count": 11,
     "metadata": {},
     "output_type": "execute_result"
    }
   ],
   "source": [
    "# species data\n",
    "df_species = pd.read_csv(SPECIES_DATA)\n",
    "df_species = df_species[[\"Accession\", \"Genome Size\", \"GC Percentage\", \"Taxa\"]]\n",
    "df_species = df_species.replace('na', np.nan)\n",
    "df_species[\"GC Percentage\"] = df_species[\"GC Percentage\"].astype(float)\n",
    "df_species[\"Genome Size\"] = df_species[\"Genome Size\"].astype(float)\n",
    "df_species[\"Domain\"] = df_species[\"Taxa\"].apply(get_domain)\n",
    "df_species.head()"
   ]
  },
  {
   "cell_type": "code",
   "execution_count": 12,
   "metadata": {},
   "outputs": [
    {
     "data": {
      "application/vnd.microsoft.datawrangler.viewer.v0+json": {
       "columns": [
        {
         "name": "index",
         "rawType": "int64",
         "type": "integer"
        },
        {
         "name": "Accession",
         "rawType": "object",
         "type": "string"
        },
        {
         "name": "g4_count",
         "rawType": "float64",
         "type": "float"
        },
        {
         "name": "total_g4_length",
         "rawType": "float64",
         "type": "float"
        },
        {
         "name": "Genome Size",
         "rawType": "float64",
         "type": "float"
        },
        {
         "name": "GC Percentage",
         "rawType": "float64",
         "type": "float"
        },
        {
         "name": "Taxa",
         "rawType": "object",
         "type": "string"
        },
        {
         "name": "Domain",
         "rawType": "object",
         "type": "string"
        },
        {
         "name": "G4 Density (per Mb)",
         "rawType": "float64",
         "type": "float"
        },
        {
         "name": "GC Corrected G4 Density (per Mb)",
         "rawType": "float64",
         "type": "float"
        },
        {
         "name": "Method",
         "rawType": "object",
         "type": "string"
        }
       ],
       "ref": "5b7988ec-a99f-42af-8c2d-f792eeba2eea",
       "rows": [
        [
         "0",
         "GCA_000002515.1",
         "356.0",
         "11512.0",
         "10689156.0",
         "38.5",
         "fungi",
         "Eukaryota",
         "33.30478103229105",
         "43.25296237959876",
         "G4Hunter"
        ],
        [
         "1",
         "GCA_000002765.3",
         "438.0",
         "15119.0",
         "23292622.0",
         "19.0",
         "protozoa",
         "Eukaryota",
         "18.804237668047847",
         "49.48483596854697",
         "G4Hunter"
        ],
        [
         "2",
         "GCA_000002985.3",
         "11196.0",
         "406037.0",
         "100272607.0",
         "35.0",
         "invertebrate",
         "Eukaryota",
         "111.65561896680317",
         "159.5080270954331",
         "G4Hunter"
        ],
        [
         "3",
         "GCA_000006605.1",
         "909.0",
         "28761.0",
         "2476822.0",
         "61.0",
         "bacteria",
         "Bacteria",
         "367.00255407938073",
         "300.82176563883667",
         "G4Hunter"
        ],
        [
         "4",
         "GCA_000006645.1",
         "765.0",
         "23973.0",
         "4701745.0",
         "47.5",
         "bacteria",
         "Bacteria",
         "162.70554868458413",
         "171.26899861535173",
         "G4Hunter"
        ]
       ],
       "shape": {
        "columns": 10,
        "rows": 5
       }
      },
      "text/html": [
       "<div>\n",
       "<style scoped>\n",
       "    .dataframe tbody tr th:only-of-type {\n",
       "        vertical-align: middle;\n",
       "    }\n",
       "\n",
       "    .dataframe tbody tr th {\n",
       "        vertical-align: top;\n",
       "    }\n",
       "\n",
       "    .dataframe thead th {\n",
       "        text-align: right;\n",
       "    }\n",
       "</style>\n",
       "<table border=\"1\" class=\"dataframe\">\n",
       "  <thead>\n",
       "    <tr style=\"text-align: right;\">\n",
       "      <th></th>\n",
       "      <th>Accession</th>\n",
       "      <th>g4_count</th>\n",
       "      <th>total_g4_length</th>\n",
       "      <th>Genome Size</th>\n",
       "      <th>GC Percentage</th>\n",
       "      <th>Taxa</th>\n",
       "      <th>Domain</th>\n",
       "      <th>G4 Density (per Mb)</th>\n",
       "      <th>GC Corrected G4 Density (per Mb)</th>\n",
       "      <th>Method</th>\n",
       "    </tr>\n",
       "  </thead>\n",
       "  <tbody>\n",
       "    <tr>\n",
       "      <th>0</th>\n",
       "      <td>GCA_000002515.1</td>\n",
       "      <td>356.0</td>\n",
       "      <td>11512.0</td>\n",
       "      <td>10689156.0</td>\n",
       "      <td>38.5</td>\n",
       "      <td>fungi</td>\n",
       "      <td>Eukaryota</td>\n",
       "      <td>33.304781</td>\n",
       "      <td>43.252962</td>\n",
       "      <td>G4Hunter</td>\n",
       "    </tr>\n",
       "    <tr>\n",
       "      <th>1</th>\n",
       "      <td>GCA_000002765.3</td>\n",
       "      <td>438.0</td>\n",
       "      <td>15119.0</td>\n",
       "      <td>23292622.0</td>\n",
       "      <td>19.0</td>\n",
       "      <td>protozoa</td>\n",
       "      <td>Eukaryota</td>\n",
       "      <td>18.804238</td>\n",
       "      <td>49.484836</td>\n",
       "      <td>G4Hunter</td>\n",
       "    </tr>\n",
       "    <tr>\n",
       "      <th>2</th>\n",
       "      <td>GCA_000002985.3</td>\n",
       "      <td>11196.0</td>\n",
       "      <td>406037.0</td>\n",
       "      <td>100272607.0</td>\n",
       "      <td>35.0</td>\n",
       "      <td>invertebrate</td>\n",
       "      <td>Eukaryota</td>\n",
       "      <td>111.655619</td>\n",
       "      <td>159.508027</td>\n",
       "      <td>G4Hunter</td>\n",
       "    </tr>\n",
       "    <tr>\n",
       "      <th>3</th>\n",
       "      <td>GCA_000006605.1</td>\n",
       "      <td>909.0</td>\n",
       "      <td>28761.0</td>\n",
       "      <td>2476822.0</td>\n",
       "      <td>61.0</td>\n",
       "      <td>bacteria</td>\n",
       "      <td>Bacteria</td>\n",
       "      <td>367.002554</td>\n",
       "      <td>300.821766</td>\n",
       "      <td>G4Hunter</td>\n",
       "    </tr>\n",
       "    <tr>\n",
       "      <th>4</th>\n",
       "      <td>GCA_000006645.1</td>\n",
       "      <td>765.0</td>\n",
       "      <td>23973.0</td>\n",
       "      <td>4701745.0</td>\n",
       "      <td>47.5</td>\n",
       "      <td>bacteria</td>\n",
       "      <td>Bacteria</td>\n",
       "      <td>162.705549</td>\n",
       "      <td>171.268999</td>\n",
       "      <td>G4Hunter</td>\n",
       "    </tr>\n",
       "  </tbody>\n",
       "</table>\n",
       "</div>"
      ],
      "text/plain": [
       "         Accession  g4_count  total_g4_length  Genome Size  GC Percentage  \\\n",
       "0  GCA_000002515.1     356.0          11512.0   10689156.0           38.5   \n",
       "1  GCA_000002765.3     438.0          15119.0   23292622.0           19.0   \n",
       "2  GCA_000002985.3   11196.0         406037.0  100272607.0           35.0   \n",
       "3  GCA_000006605.1     909.0          28761.0    2476822.0           61.0   \n",
       "4  GCA_000006645.1     765.0          23973.0    4701745.0           47.5   \n",
       "\n",
       "           Taxa     Domain  G4 Density (per Mb)  \\\n",
       "0         fungi  Eukaryota            33.304781   \n",
       "1      protozoa  Eukaryota            18.804238   \n",
       "2  invertebrate  Eukaryota           111.655619   \n",
       "3      bacteria   Bacteria           367.002554   \n",
       "4      bacteria   Bacteria           162.705549   \n",
       "\n",
       "   GC Corrected G4 Density (per Mb)    Method  \n",
       "0                         43.252962  G4Hunter  \n",
       "1                         49.484836  G4Hunter  \n",
       "2                        159.508027  G4Hunter  \n",
       "3                        300.821766  G4Hunter  \n",
       "4                        171.268999  G4Hunter  "
      ]
     },
     "execution_count": 12,
     "metadata": {},
     "output_type": "execute_result"
    }
   ],
   "source": [
    "# g4 data from g4hunter\n",
    "df_g4 = pd.read_csv(G4_PATH)\n",
    "df_g4 = df_g4[[\"accession\", \"g4_count\", \"total_g4_length\"]]\n",
    "df_g4 = df_g4.rename(columns={\"accession\": \"Accession\"})\n",
    "df_g4[\"g4_count\"] = df_g4[\"g4_count\"].astype(float)\n",
    "df_g4[\"total_g4_length\"] = df_g4[\"total_g4_length\"].astype(float)\n",
    "\n",
    "# merge g4 data with species data\n",
    "df_g4 = pd.merge(df_g4, df_species, on=\"Accession\")\n",
    "df_g4[\"G4 Density (per Mb)\"] = df_g4[\"g4_count\"] / df_g4[\"Genome Size\"] * 1000000\n",
    "df_g4[\"GC Corrected G4 Density (per Mb)\"] = df_g4[\"G4 Density (per Mb)\"] / (df_g4[\"GC Percentage\"] / 50)\n",
    "df_g4.head()\n",
    "\n",
    "# filter out metagenomes and other taxa as they are not relevant for domain level analysis\n",
    "df_g4 = df_g4[df_g4[\"Taxa\"] != \"metagenomes\"]\n",
    "df_g4 = df_g4[df_g4[\"Taxa\"] != \"other\"]\n",
    "\n",
    "df_g4[\"Method\"] = \"G4Hunter\"\n",
    "df_g4.head()"
   ]
  },
  {
   "cell_type": "code",
   "execution_count": 5,
   "metadata": {},
   "outputs": [
    {
     "data": {
      "application/vnd.microsoft.datawrangler.viewer.v0+json": {
       "columns": [
        {
         "name": "index",
         "rawType": "int64",
         "type": "integer"
        },
        {
         "name": "Accession",
         "rawType": "object",
         "type": "string"
        },
        {
         "name": "g4_count",
         "rawType": "float64",
         "type": "float"
        },
        {
         "name": "total_g4_length",
         "rawType": "float64",
         "type": "float"
        },
        {
         "name": "Genome Size",
         "rawType": "float64",
         "type": "float"
        },
        {
         "name": "GC Percentage",
         "rawType": "float64",
         "type": "float"
        },
        {
         "name": "Taxa",
         "rawType": "object",
         "type": "string"
        },
        {
         "name": "Domain",
         "rawType": "object",
         "type": "string"
        },
        {
         "name": "G4 Density (per Mb)",
         "rawType": "float64",
         "type": "float"
        },
        {
         "name": "GC Corrected G4 Density (per Mb)",
         "rawType": "float64",
         "type": "float"
        },
        {
         "name": "Method",
         "rawType": "object",
         "type": "string"
        }
       ],
       "ref": "4bd7880a-4eb7-4f24-bf9e-8a7f8f5e0b54",
       "rows": [
        [
         "0",
         "GCA_000002515.1",
         "36.0",
         "890.0",
         "10689156.0",
         "38.5",
         "fungi",
         "Eukaryota",
         "3.367899205512577",
         "4.373895072094256",
         "regex-based"
        ],
        [
         "1",
         "GCA_000002765.3",
         "837.0",
         "20268.0",
         "23292622.0",
         "19.0",
         "protozoa",
         "Eukaryota",
         "35.93412540674897",
         "94.56348791249728",
         "regex-based"
        ],
        [
         "2",
         "GCA_000002985.3",
         "2372.0",
         "54608.0",
         "100272607.0",
         "35.0",
         "invertebrate",
         "Eukaryota",
         "23.655513414546007",
         "33.79359059220858",
         "regex-based"
        ],
        [
         "3",
         "GCA_000006605.1",
         "154.0",
         "4017.0",
         "2476822.0",
         "61.0",
         "bacteria",
         "Bacteria",
         "62.17645030607771",
         "50.96430352957189",
         "regex-based"
        ],
        [
         "4",
         "GCA_000006645.1",
         "66.0",
         "1652.0",
         "4701745.0",
         "47.5",
         "bacteria",
         "Bacteria",
         "14.037341455140592",
         "14.77614890014799",
         "regex-based"
        ]
       ],
       "shape": {
        "columns": 10,
        "rows": 5
       }
      },
      "text/html": [
       "<div>\n",
       "<style scoped>\n",
       "    .dataframe tbody tr th:only-of-type {\n",
       "        vertical-align: middle;\n",
       "    }\n",
       "\n",
       "    .dataframe tbody tr th {\n",
       "        vertical-align: top;\n",
       "    }\n",
       "\n",
       "    .dataframe thead th {\n",
       "        text-align: right;\n",
       "    }\n",
       "</style>\n",
       "<table border=\"1\" class=\"dataframe\">\n",
       "  <thead>\n",
       "    <tr style=\"text-align: right;\">\n",
       "      <th></th>\n",
       "      <th>Accession</th>\n",
       "      <th>g4_count</th>\n",
       "      <th>total_g4_length</th>\n",
       "      <th>Genome Size</th>\n",
       "      <th>GC Percentage</th>\n",
       "      <th>Taxa</th>\n",
       "      <th>Domain</th>\n",
       "      <th>G4 Density (per Mb)</th>\n",
       "      <th>GC Corrected G4 Density (per Mb)</th>\n",
       "      <th>Method</th>\n",
       "    </tr>\n",
       "  </thead>\n",
       "  <tbody>\n",
       "    <tr>\n",
       "      <th>0</th>\n",
       "      <td>GCA_000002515.1</td>\n",
       "      <td>36.0</td>\n",
       "      <td>890.0</td>\n",
       "      <td>10689156.0</td>\n",
       "      <td>38.5</td>\n",
       "      <td>fungi</td>\n",
       "      <td>Eukaryota</td>\n",
       "      <td>3.367899</td>\n",
       "      <td>4.373895</td>\n",
       "      <td>regex-based</td>\n",
       "    </tr>\n",
       "    <tr>\n",
       "      <th>1</th>\n",
       "      <td>GCA_000002765.3</td>\n",
       "      <td>837.0</td>\n",
       "      <td>20268.0</td>\n",
       "      <td>23292622.0</td>\n",
       "      <td>19.0</td>\n",
       "      <td>protozoa</td>\n",
       "      <td>Eukaryota</td>\n",
       "      <td>35.934125</td>\n",
       "      <td>94.563488</td>\n",
       "      <td>regex-based</td>\n",
       "    </tr>\n",
       "    <tr>\n",
       "      <th>2</th>\n",
       "      <td>GCA_000002985.3</td>\n",
       "      <td>2372.0</td>\n",
       "      <td>54608.0</td>\n",
       "      <td>100272607.0</td>\n",
       "      <td>35.0</td>\n",
       "      <td>invertebrate</td>\n",
       "      <td>Eukaryota</td>\n",
       "      <td>23.655513</td>\n",
       "      <td>33.793591</td>\n",
       "      <td>regex-based</td>\n",
       "    </tr>\n",
       "    <tr>\n",
       "      <th>3</th>\n",
       "      <td>GCA_000006605.1</td>\n",
       "      <td>154.0</td>\n",
       "      <td>4017.0</td>\n",
       "      <td>2476822.0</td>\n",
       "      <td>61.0</td>\n",
       "      <td>bacteria</td>\n",
       "      <td>Bacteria</td>\n",
       "      <td>62.176450</td>\n",
       "      <td>50.964304</td>\n",
       "      <td>regex-based</td>\n",
       "    </tr>\n",
       "    <tr>\n",
       "      <th>4</th>\n",
       "      <td>GCA_000006645.1</td>\n",
       "      <td>66.0</td>\n",
       "      <td>1652.0</td>\n",
       "      <td>4701745.0</td>\n",
       "      <td>47.5</td>\n",
       "      <td>bacteria</td>\n",
       "      <td>Bacteria</td>\n",
       "      <td>14.037341</td>\n",
       "      <td>14.776149</td>\n",
       "      <td>regex-based</td>\n",
       "    </tr>\n",
       "  </tbody>\n",
       "</table>\n",
       "</div>"
      ],
      "text/plain": [
       "         Accession  g4_count  total_g4_length  Genome Size  GC Percentage  \\\n",
       "0  GCA_000002515.1      36.0            890.0   10689156.0           38.5   \n",
       "1  GCA_000002765.3     837.0          20268.0   23292622.0           19.0   \n",
       "2  GCA_000002985.3    2372.0          54608.0  100272607.0           35.0   \n",
       "3  GCA_000006605.1     154.0           4017.0    2476822.0           61.0   \n",
       "4  GCA_000006645.1      66.0           1652.0    4701745.0           47.5   \n",
       "\n",
       "           Taxa     Domain  G4 Density (per Mb)  \\\n",
       "0         fungi  Eukaryota             3.367899   \n",
       "1      protozoa  Eukaryota            35.934125   \n",
       "2  invertebrate  Eukaryota            23.655513   \n",
       "3      bacteria   Bacteria            62.176450   \n",
       "4      bacteria   Bacteria            14.037341   \n",
       "\n",
       "   GC Corrected G4 Density (per Mb)       Method  \n",
       "0                          4.373895  regex-based  \n",
       "1                         94.563488  regex-based  \n",
       "2                         33.793591  regex-based  \n",
       "3                         50.964304  regex-based  \n",
       "4                         14.776149  regex-based  "
      ]
     },
     "execution_count": 5,
     "metadata": {},
     "output_type": "execute_result"
    }
   ],
   "source": [
    "# g4 data from regex\n",
    "df_reg = pd.read_csv(REG_PATH)\n",
    "df_reg = df_reg[[\"accession\", \"g4_count\", \"total_g4_length\"]]\n",
    "df_reg = df_reg.rename(columns={\"accession\": \"Accession\"})\n",
    "df_reg[\"g4_count\"] = df_reg[\"g4_count\"].astype(float)\n",
    "df_reg[\"total_g4_length\"] = df_reg[\"total_g4_length\"].astype(float)\n",
    "\n",
    "# merge with species data\n",
    "df_reg = pd.merge(df_reg, df_species, on=\"Accession\")\n",
    "df_reg[\"G4 Density (per Mb)\"] = df_reg[\"g4_count\"] / df_reg[\"Genome Size\"] * 1000000\n",
    "df_reg[\"GC Corrected G4 Density (per Mb)\"] = df_reg[\"G4 Density (per Mb)\"] / (df_reg[\"GC Percentage\"] / 50)\n",
    "df_reg.head()\n",
    "\n",
    "# filter out metagenomes and other taxa as they are not relevant for domain level analysis\n",
    "df_reg = df_reg[df_reg[\"Taxa\"] != \"metagenomes\"]\n",
    "df_reg = df_reg[df_reg[\"Taxa\"] != \"other\"]\n",
    "\n",
    "df_reg[\"Method\"] = \"regex-based\"\n",
    "df_reg.head()"
   ]
  },
  {
   "cell_type": "code",
   "execution_count": 6,
   "metadata": {},
   "outputs": [
    {
     "data": {
      "application/vnd.microsoft.datawrangler.viewer.v0+json": {
       "columns": [
        {
         "name": "index",
         "rawType": "int64",
         "type": "integer"
        },
        {
         "name": "Accession",
         "rawType": "object",
         "type": "string"
        },
        {
         "name": "g4_count",
         "rawType": "float64",
         "type": "float"
        },
        {
         "name": "total_g4_length",
         "rawType": "float64",
         "type": "float"
        },
        {
         "name": "Genome Size",
         "rawType": "float64",
         "type": "float"
        },
        {
         "name": "GC Percentage",
         "rawType": "float64",
         "type": "float"
        },
        {
         "name": "Taxa",
         "rawType": "object",
         "type": "string"
        },
        {
         "name": "Domain",
         "rawType": "object",
         "type": "string"
        },
        {
         "name": "G4 Density (per Mb)",
         "rawType": "float64",
         "type": "float"
        },
        {
         "name": "GC Corrected G4 Density (per Mb)",
         "rawType": "float64",
         "type": "float"
        },
        {
         "name": "Method",
         "rawType": "object",
         "type": "string"
        }
       ],
       "ref": "49191c31-88c7-4095-8fae-b46bceb9bf4d",
       "rows": [
        [
         "0",
         "GCA_000002515.1",
         "356.0",
         "11512.0",
         "10689156.0",
         "38.5",
         "fungi",
         "Eukaryota",
         "33.30478103229105",
         "43.25296237959876",
         "G4Hunter"
        ],
        [
         "1",
         "GCA_000002765.3",
         "438.0",
         "15119.0",
         "23292622.0",
         "19.0",
         "protozoa",
         "Eukaryota",
         "18.804237668047847",
         "49.48483596854697",
         "G4Hunter"
        ],
        [
         "2",
         "GCA_000002985.3",
         "11196.0",
         "406037.0",
         "100272607.0",
         "35.0",
         "invertebrate",
         "Eukaryota",
         "111.65561896680317",
         "159.5080270954331",
         "G4Hunter"
        ],
        [
         "3",
         "GCA_000006605.1",
         "909.0",
         "28761.0",
         "2476822.0",
         "61.0",
         "bacteria",
         "Bacteria",
         "367.00255407938073",
         "300.82176563883667",
         "G4Hunter"
        ],
        [
         "4",
         "GCA_000006645.1",
         "765.0",
         "23973.0",
         "4701745.0",
         "47.5",
         "bacteria",
         "Bacteria",
         "162.70554868458413",
         "171.26899861535173",
         "G4Hunter"
        ],
        [
         "5",
         "GCA_000006685.1",
         "133.0",
         "4216.0",
         "1080451.0",
         "40.0",
         "bacteria",
         "Bacteria",
         "123.09674385974006",
         "153.87092982467507",
         "G4Hunter"
        ],
        [
         "6",
         "GCA_000006905.1",
         "1529.0",
         "48968.0",
         "4016947.0",
         "67.0",
         "bacteria",
         "Bacteria",
         "380.63733477190516",
         "284.0577125163471",
         "G4Hunter"
        ],
        [
         "7",
         "GCA_000006945.2",
         "418.0",
         "12666.0",
         "4951383.0",
         "52.0",
         "bacteria",
         "Bacteria",
         "84.4208577684255",
         "81.17390170040913",
         "G4Hunter"
        ],
        [
         "8",
         "GCA_000007005.1",
         "261.0",
         "8369.0",
         "2992245.0",
         "35.5",
         "archaea",
         "Archaea",
         "87.2254778602688",
         "122.85278571868845",
         "G4Hunter"
        ],
        [
         "9",
         "GCA_000007045.1",
         "29.0",
         "832.0",
         "2038615.0",
         "39.5",
         "bacteria",
         "Bacteria",
         "14.22534416748626",
         "18.006764768969948",
         "G4Hunter"
        ]
       ],
       "shape": {
        "columns": 10,
        "rows": 10
       }
      },
      "text/html": [
       "<div>\n",
       "<style scoped>\n",
       "    .dataframe tbody tr th:only-of-type {\n",
       "        vertical-align: middle;\n",
       "    }\n",
       "\n",
       "    .dataframe tbody tr th {\n",
       "        vertical-align: top;\n",
       "    }\n",
       "\n",
       "    .dataframe thead th {\n",
       "        text-align: right;\n",
       "    }\n",
       "</style>\n",
       "<table border=\"1\" class=\"dataframe\">\n",
       "  <thead>\n",
       "    <tr style=\"text-align: right;\">\n",
       "      <th></th>\n",
       "      <th>Accession</th>\n",
       "      <th>g4_count</th>\n",
       "      <th>total_g4_length</th>\n",
       "      <th>Genome Size</th>\n",
       "      <th>GC Percentage</th>\n",
       "      <th>Taxa</th>\n",
       "      <th>Domain</th>\n",
       "      <th>G4 Density (per Mb)</th>\n",
       "      <th>GC Corrected G4 Density (per Mb)</th>\n",
       "      <th>Method</th>\n",
       "    </tr>\n",
       "  </thead>\n",
       "  <tbody>\n",
       "    <tr>\n",
       "      <th>0</th>\n",
       "      <td>GCA_000002515.1</td>\n",
       "      <td>356.0</td>\n",
       "      <td>11512.0</td>\n",
       "      <td>10689156.0</td>\n",
       "      <td>38.5</td>\n",
       "      <td>fungi</td>\n",
       "      <td>Eukaryota</td>\n",
       "      <td>33.304781</td>\n",
       "      <td>43.252962</td>\n",
       "      <td>G4Hunter</td>\n",
       "    </tr>\n",
       "    <tr>\n",
       "      <th>1</th>\n",
       "      <td>GCA_000002765.3</td>\n",
       "      <td>438.0</td>\n",
       "      <td>15119.0</td>\n",
       "      <td>23292622.0</td>\n",
       "      <td>19.0</td>\n",
       "      <td>protozoa</td>\n",
       "      <td>Eukaryota</td>\n",
       "      <td>18.804238</td>\n",
       "      <td>49.484836</td>\n",
       "      <td>G4Hunter</td>\n",
       "    </tr>\n",
       "    <tr>\n",
       "      <th>2</th>\n",
       "      <td>GCA_000002985.3</td>\n",
       "      <td>11196.0</td>\n",
       "      <td>406037.0</td>\n",
       "      <td>100272607.0</td>\n",
       "      <td>35.0</td>\n",
       "      <td>invertebrate</td>\n",
       "      <td>Eukaryota</td>\n",
       "      <td>111.655619</td>\n",
       "      <td>159.508027</td>\n",
       "      <td>G4Hunter</td>\n",
       "    </tr>\n",
       "    <tr>\n",
       "      <th>3</th>\n",
       "      <td>GCA_000006605.1</td>\n",
       "      <td>909.0</td>\n",
       "      <td>28761.0</td>\n",
       "      <td>2476822.0</td>\n",
       "      <td>61.0</td>\n",
       "      <td>bacteria</td>\n",
       "      <td>Bacteria</td>\n",
       "      <td>367.002554</td>\n",
       "      <td>300.821766</td>\n",
       "      <td>G4Hunter</td>\n",
       "    </tr>\n",
       "    <tr>\n",
       "      <th>4</th>\n",
       "      <td>GCA_000006645.1</td>\n",
       "      <td>765.0</td>\n",
       "      <td>23973.0</td>\n",
       "      <td>4701745.0</td>\n",
       "      <td>47.5</td>\n",
       "      <td>bacteria</td>\n",
       "      <td>Bacteria</td>\n",
       "      <td>162.705549</td>\n",
       "      <td>171.268999</td>\n",
       "      <td>G4Hunter</td>\n",
       "    </tr>\n",
       "    <tr>\n",
       "      <th>5</th>\n",
       "      <td>GCA_000006685.1</td>\n",
       "      <td>133.0</td>\n",
       "      <td>4216.0</td>\n",
       "      <td>1080451.0</td>\n",
       "      <td>40.0</td>\n",
       "      <td>bacteria</td>\n",
       "      <td>Bacteria</td>\n",
       "      <td>123.096744</td>\n",
       "      <td>153.870930</td>\n",
       "      <td>G4Hunter</td>\n",
       "    </tr>\n",
       "    <tr>\n",
       "      <th>6</th>\n",
       "      <td>GCA_000006905.1</td>\n",
       "      <td>1529.0</td>\n",
       "      <td>48968.0</td>\n",
       "      <td>4016947.0</td>\n",
       "      <td>67.0</td>\n",
       "      <td>bacteria</td>\n",
       "      <td>Bacteria</td>\n",
       "      <td>380.637335</td>\n",
       "      <td>284.057713</td>\n",
       "      <td>G4Hunter</td>\n",
       "    </tr>\n",
       "    <tr>\n",
       "      <th>7</th>\n",
       "      <td>GCA_000006945.2</td>\n",
       "      <td>418.0</td>\n",
       "      <td>12666.0</td>\n",
       "      <td>4951383.0</td>\n",
       "      <td>52.0</td>\n",
       "      <td>bacteria</td>\n",
       "      <td>Bacteria</td>\n",
       "      <td>84.420858</td>\n",
       "      <td>81.173902</td>\n",
       "      <td>G4Hunter</td>\n",
       "    </tr>\n",
       "    <tr>\n",
       "      <th>8</th>\n",
       "      <td>GCA_000007005.1</td>\n",
       "      <td>261.0</td>\n",
       "      <td>8369.0</td>\n",
       "      <td>2992245.0</td>\n",
       "      <td>35.5</td>\n",
       "      <td>archaea</td>\n",
       "      <td>Archaea</td>\n",
       "      <td>87.225478</td>\n",
       "      <td>122.852786</td>\n",
       "      <td>G4Hunter</td>\n",
       "    </tr>\n",
       "    <tr>\n",
       "      <th>9</th>\n",
       "      <td>GCA_000007045.1</td>\n",
       "      <td>29.0</td>\n",
       "      <td>832.0</td>\n",
       "      <td>2038615.0</td>\n",
       "      <td>39.5</td>\n",
       "      <td>bacteria</td>\n",
       "      <td>Bacteria</td>\n",
       "      <td>14.225344</td>\n",
       "      <td>18.006765</td>\n",
       "      <td>G4Hunter</td>\n",
       "    </tr>\n",
       "  </tbody>\n",
       "</table>\n",
       "</div>"
      ],
      "text/plain": [
       "         Accession  g4_count  total_g4_length  Genome Size  GC Percentage  \\\n",
       "0  GCA_000002515.1     356.0          11512.0   10689156.0           38.5   \n",
       "1  GCA_000002765.3     438.0          15119.0   23292622.0           19.0   \n",
       "2  GCA_000002985.3   11196.0         406037.0  100272607.0           35.0   \n",
       "3  GCA_000006605.1     909.0          28761.0    2476822.0           61.0   \n",
       "4  GCA_000006645.1     765.0          23973.0    4701745.0           47.5   \n",
       "5  GCA_000006685.1     133.0           4216.0    1080451.0           40.0   \n",
       "6  GCA_000006905.1    1529.0          48968.0    4016947.0           67.0   \n",
       "7  GCA_000006945.2     418.0          12666.0    4951383.0           52.0   \n",
       "8  GCA_000007005.1     261.0           8369.0    2992245.0           35.5   \n",
       "9  GCA_000007045.1      29.0            832.0    2038615.0           39.5   \n",
       "\n",
       "           Taxa     Domain  G4 Density (per Mb)  \\\n",
       "0         fungi  Eukaryota            33.304781   \n",
       "1      protozoa  Eukaryota            18.804238   \n",
       "2  invertebrate  Eukaryota           111.655619   \n",
       "3      bacteria   Bacteria           367.002554   \n",
       "4      bacteria   Bacteria           162.705549   \n",
       "5      bacteria   Bacteria           123.096744   \n",
       "6      bacteria   Bacteria           380.637335   \n",
       "7      bacteria   Bacteria            84.420858   \n",
       "8       archaea    Archaea            87.225478   \n",
       "9      bacteria   Bacteria            14.225344   \n",
       "\n",
       "   GC Corrected G4 Density (per Mb)    Method  \n",
       "0                         43.252962  G4Hunter  \n",
       "1                         49.484836  G4Hunter  \n",
       "2                        159.508027  G4Hunter  \n",
       "3                        300.821766  G4Hunter  \n",
       "4                        171.268999  G4Hunter  \n",
       "5                        153.870930  G4Hunter  \n",
       "6                        284.057713  G4Hunter  \n",
       "7                         81.173902  G4Hunter  \n",
       "8                        122.852786  G4Hunter  \n",
       "9                         18.006765  G4Hunter  "
      ]
     },
     "execution_count": 6,
     "metadata": {},
     "output_type": "execute_result"
    }
   ],
   "source": [
    "# combine g4 and regex data\n",
    "df_combined = pd.concat([df_g4, df_reg])\n",
    "df_combined.head(10)"
   ]
  },
  {
   "cell_type": "code",
   "execution_count": 7,
   "metadata": {},
   "outputs": [
    {
     "data": {
      "text/plain": [
       "<Figure size 600x600 with 0 Axes>"
      ]
     },
     "metadata": {},
     "output_type": "display_data"
    },
    {
     "data": {
      "image/png": "[encoded data removed]",
      "text/plain": [
       "<Figure size 500x500 with 1 Axes>"
      ]
     },
     "metadata": {},
     "output_type": "display_data"
    }
   ],
   "source": [
    "sns.set_style(\"whitegrid\")\n",
    "plt.figure(figsize=(6,6))\n",
    "\n",
    "sns.catplot(\n",
    "    data=df_combined, \n",
    "    kind=\"bar\",\n",
    "    x=\"Method\", \n",
    "    y=\"G4 Density (per Mb)\", \n",
    "    hue=\"Domain\",\n",
    "    palette=color_map,\n",
    "    hue_order=[\"Eukaryota\", \"Archaea\", \"Bacteria\", \"Virus\"],\n",
    "    legend=False\n",
    ")\n",
    "\n",
    "# create legend\n",
    "plt.legend(\n",
    "    title=\"Domain\", \n",
    "    labels=[\"Eukaryota\", \"Archaea\", \"Bacteria\", \"Virus\"],\n",
    "    fontsize=18,\n",
    "    title_fontsize=18,\n",
    "    bbox_to_anchor=(1.04, 1),\n",
    ")\n",
    "\n",
    "# Get the legend handles and set their colors\n",
    "legend = plt.gca().get_legend()\n",
    "handles = legend.get_lines()\n",
    "handles[0].set_color(color_map[\"Eukaryota\"])\n",
    "handles[1].set_color(color_map[\"Archaea\"])\n",
    "handles[2].set_color(color_map[\"Bacteria\"])\n",
    "handles[3].set_color(color_map[\"Virus\"])\n",
    "for i in range(4):\n",
    "    handles[i].set_linewidth(5)\n",
    "\n",
    "# formatting\n",
    "plt.xticks(fontsize=22)\n",
    "plt.yticks(fontsize=20)\n",
    "plt.xlabel(\"Method\", fontsize=22, labelpad=10)\n",
    "plt.ylabel(\"Average G4 Density (per Mb)\", fontsize=22, labelpad=10)\n",
    "plt.tight_layout()\n",
    "\n",
    "plt.savefig(\"../plots/g4_density_domain_combined.png\", dpi=300)"
   ]
  },
  {
   "cell_type": "code",
   "execution_count": 8,
   "metadata": {},
   "outputs": [
    {
     "data": {
      "application/vnd.microsoft.datawrangler.viewer.v0+json": {
       "columns": [
        {
         "name": "index",
         "rawType": "int64",
         "type": "integer"
        },
        {
         "name": "Method",
         "rawType": "object",
         "type": "string"
        },
        {
         "name": "Domain",
         "rawType": "object",
         "type": "string"
        },
        {
         "name": "G4 Density (per Mb)",
         "rawType": "float64",
         "type": "float"
        }
       ],
       "ref": "77597062-654c-4c33-98a0-907953e488dd",
       "rows": [
        [
         "0",
         "G4Hunter",
         "Archaea",
         "201.31524001781844"
        ],
        [
         "1",
         "G4Hunter",
         "Bacteria",
         "147.81302266820379"
        ],
        [
         "2",
         "G4Hunter",
         "Eukaryota",
         "327.03143955669873"
        ],
        [
         "3",
         "G4Hunter",
         "Virus",
         "262.53934837757595"
        ],
        [
         "4",
         "regex-based",
         "Archaea",
         "26.404958222617005"
        ],
        [
         "5",
         "regex-based",
         "Bacteria",
         "29.5581573622558"
        ],
        [
         "6",
         "regex-based",
         "Eukaryota",
         "82.75614093902134"
        ],
        [
         "7",
         "regex-based",
         "Virus",
         "65.62317134761909"
        ]
       ],
       "shape": {
        "columns": 3,
        "rows": 8
       }
      },
      "text/html": [
       "<div>\n",
       "<style scoped>\n",
       "    .dataframe tbody tr th:only-of-type {\n",
       "        vertical-align: middle;\n",
       "    }\n",
       "\n",
       "    .dataframe tbody tr th {\n",
       "        vertical-align: top;\n",
       "    }\n",
       "\n",
       "    .dataframe thead th {\n",
       "        text-align: right;\n",
       "    }\n",
       "</style>\n",
       "<table border=\"1\" class=\"dataframe\">\n",
       "  <thead>\n",
       "    <tr style=\"text-align: right;\">\n",
       "      <th></th>\n",
       "      <th>Method</th>\n",
       "      <th>Domain</th>\n",
       "      <th>G4 Density (per Mb)</th>\n",
       "    </tr>\n",
       "  </thead>\n",
       "  <tbody>\n",
       "    <tr>\n",
       "      <th>0</th>\n",
       "      <td>G4Hunter</td>\n",
       "      <td>Archaea</td>\n",
       "      <td>201.315240</td>\n",
       "    </tr>\n",
       "    <tr>\n",
       "      <th>1</th>\n",
       "      <td>G4Hunter</td>\n",
       "      <td>Bacteria</td>\n",
       "      <td>147.813023</td>\n",
       "    </tr>\n",
       "    <tr>\n",
       "      <th>2</th>\n",
       "      <td>G4Hunter</td>\n",
       "      <td>Eukaryota</td>\n",
       "      <td>327.031440</td>\n",
       "    </tr>\n",
       "    <tr>\n",
       "      <th>3</th>\n",
       "      <td>G4Hunter</td>\n",
       "      <td>Virus</td>\n",
       "      <td>262.539348</td>\n",
       "    </tr>\n",
       "    <tr>\n",
       "      <th>4</th>\n",
       "      <td>regex-based</td>\n",
       "      <td>Archaea</td>\n",
       "      <td>26.404958</td>\n",
       "    </tr>\n",
       "    <tr>\n",
       "      <th>5</th>\n",
       "      <td>regex-based</td>\n",
       "      <td>Bacteria</td>\n",
       "      <td>29.558157</td>\n",
       "    </tr>\n",
       "    <tr>\n",
       "      <th>6</th>\n",
       "      <td>regex-based</td>\n",
       "      <td>Eukaryota</td>\n",
       "      <td>82.756141</td>\n",
       "    </tr>\n",
       "    <tr>\n",
       "      <th>7</th>\n",
       "      <td>regex-based</td>\n",
       "      <td>Virus</td>\n",
       "      <td>65.623171</td>\n",
       "    </tr>\n",
       "  </tbody>\n",
       "</table>\n",
       "</div>"
      ],
      "text/plain": [
       "        Method     Domain  G4 Density (per Mb)\n",
       "0     G4Hunter    Archaea           201.315240\n",
       "1     G4Hunter   Bacteria           147.813023\n",
       "2     G4Hunter  Eukaryota           327.031440\n",
       "3     G4Hunter      Virus           262.539348\n",
       "4  regex-based    Archaea            26.404958\n",
       "5  regex-based   Bacteria            29.558157\n",
       "6  regex-based  Eukaryota            82.756141\n",
       "7  regex-based      Virus            65.623171"
      ]
     },
     "execution_count": 8,
     "metadata": {},
     "output_type": "execute_result"
    }
   ],
   "source": [
    "# export figure data to csv\n",
    "df_combined_grouped = df_combined.groupby([\"Method\", \"Domain\"]).agg({\n",
    "    \"G4 Density (per Mb)\": \"mean\"\n",
    "}).reset_index()\n",
    "df_combined_grouped.to_csv(\"../supplementary_data/g4_density_domain_combined.csv\", index=False)\n",
    "df_combined_grouped"
   ]
  }
 ],
 "metadata": {
  "kernelspec": {
   "display_name": "gquad",
   "language": "python",
   "name": "python3"
  },
  "language_info": {
   "codemirror_mode": {
    "name": "ipython",
    "version": 3
   },
   "file_extension": ".py",
   "mimetype": "text/x-python",
   "name": "python",
   "nbconvert_exporter": "python",
   "pygments_lexer": "ipython3",
   "version": "3.9.21"
  }
 },
 "nbformat": 4,
 "nbformat_minor": 2
}
